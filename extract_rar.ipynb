{
 "cells": [
  {
   "cell_type": "code",
   "execution_count": 22,
   "metadata": {},
   "outputs": [],
   "source": [
    "#!/usr/bin/python\n",
    "import os, zipfile, pyunpack\n",
    "basis_folder =  r'C:\\Users\\ssv\\Documents\\tmp'\n",
    "\n",
    "for root, dirs, files in os.walk(basis_folder):\n",
    "    for filename in files:\n",
    "        if filename.endswith(\".rar\") :\n",
    "            print('RAR:'+os.path.join(root,filename))\n",
    "        elif filename.endswith(\".zip\"):\n",
    "            print('ZIP:'+os.path.join(root,filename))\n",
    "        name = os.path.splitext(os.path.basename(filename))[0]\n",
    "        if filename.endswith(\".rar\") or filename.endswith(\".zip\"):\n",
    "            try:\n",
    "                arch = pyunpack.Archive(os.path.join(root,filename))\n",
    "                # os.mkdir(name)\n",
    "                arch.extractall(directory=root)\n",
    "                os.remove(os.path.join(root,filename))\n",
    "            except Exception as e:\n",
    "                print(\"ERROR: BAD ARCHIVE \"+os.path.join(root,filename))\n",
    "                print(e)\n",
    "                try:\n",
    "                    # os.path.join(root,filename)os.remove(filename)\n",
    "                    pass\n",
    "                except OSError as e: # this would be \"except OSError, e:\" before Python 2.6\n",
    "                    if e.errno != errno.ENOENT: # errno.ENOENT = no such file or directory\n",
    "                        raise # re-raise exception if a different error occured                \n",
    "            "
   ]
  },
  {
   "cell_type": "code",
   "execution_count": 1,
   "metadata": {},
   "outputs": [
    {
     "name": "stdout",
     "output_type": "stream",
     "text": [
      "RAR:C:/Users/Admin/OneDrive/GoogleDrive/python/VSCODE/COD/T02\\sknh_20230203.rar\n",
      "RAR:C:/Users/Admin/OneDrive/GoogleDrive/python/VSCODE/COD/T02\\sknh_20230204.rar\n",
      "RAR:C:/Users/Admin/OneDrive/GoogleDrive/python/VSCODE/COD/T02\\sknh_20230205 (2).rar\n",
      "RAR:C:/Users/Admin/OneDrive/GoogleDrive/python/VSCODE/COD/T02\\sknh_20230205.rar\n",
      "RAR:C:/Users/Admin/OneDrive/GoogleDrive/python/VSCODE/COD/T02\\sknh_20230206.rar\n",
      "RAR:C:/Users/Admin/OneDrive/GoogleDrive/python/VSCODE/COD/T02\\sknh_20230207.rar\n",
      "RAR:C:/Users/Admin/OneDrive/GoogleDrive/python/VSCODE/COD/T02\\sknh_20230208.rar\n",
      "RAR:C:/Users/Admin/OneDrive/GoogleDrive/python/VSCODE/COD/T02\\sknh_20230209.rar\n",
      "RAR:C:/Users/Admin/OneDrive/GoogleDrive/python/VSCODE/COD/T02\\sknh_20230210.rar\n",
      "RAR:C:/Users/Admin/OneDrive/GoogleDrive/python/VSCODE/COD/T02\\sknh_20230211.rar\n",
      "RAR:C:/Users/Admin/OneDrive/GoogleDrive/python/VSCODE/COD/T02\\sknh_20230212.rar\n",
      "RAR:C:/Users/Admin/OneDrive/GoogleDrive/python/VSCODE/COD/T02\\sknh_20230214.rar\n",
      "RAR:C:/Users/Admin/OneDrive/GoogleDrive/python/VSCODE/COD/T02\\sknh_20230215.rar\n",
      "RAR:C:/Users/Admin/OneDrive/GoogleDrive/python/VSCODE/COD/T02\\sknh_20230216.rar\n",
      "RAR:C:/Users/Admin/OneDrive/GoogleDrive/python/VSCODE/COD/T02\\sknh_20230217.rar\n",
      "RAR:C:/Users/Admin/OneDrive/GoogleDrive/python/VSCODE/COD/T02\\sknh_20230218.rar\n",
      "RAR:C:/Users/Admin/OneDrive/GoogleDrive/python/VSCODE/COD/T02\\sknh_20230219.rar\n",
      "RAR:C:/Users/Admin/OneDrive/GoogleDrive/python/VSCODE/COD/T02\\sknh_20230220.rar\n",
      "RAR:C:/Users/Admin/OneDrive/GoogleDrive/python/VSCODE/COD/T02\\sknh_20230221.rar\n",
      "RAR:C:/Users/Admin/OneDrive/GoogleDrive/python/VSCODE/COD/T02\\sknh_20230222.rar\n",
      "RAR:C:/Users/Admin/OneDrive/GoogleDrive/python/VSCODE/COD/T02\\sknh_20230223.rar\n",
      "RAR:C:/Users/Admin/OneDrive/GoogleDrive/python/VSCODE/COD/T02\\sknh_20230224.rar\n",
      "RAR:C:/Users/Admin/OneDrive/GoogleDrive/python/VSCODE/COD/T02\\sknh_20230225.rar\n",
      "RAR:C:/Users/Admin/OneDrive/GoogleDrive/python/VSCODE/COD/T02\\sknh_20230226.rar\n",
      "RAR:C:/Users/Admin/OneDrive/GoogleDrive/python/VSCODE/COD/T02\\sknh_20230227.rar\n",
      "RAR:C:/Users/Admin/OneDrive/GoogleDrive/python/VSCODE/COD/T02\\sknh_20230228.rar\n"
     ]
    }
   ],
   "source": [
    "import os, zipfile, pyunpack\n",
    "basis_folder =  r'C:/Users/Admin/OneDrive/GoogleDrive/python/VSCODE/COD/T02'\n",
    "\n",
    "for root, dirs, files in os.walk(basis_folder):\n",
    "    for filename in files:\n",
    "        if filename.endswith(\".rar\") :\n",
    "            print('RAR:'+os.path.join(root,filename))\n",
    "        elif filename.endswith(\".zip\"):\n",
    "            print('ZIP:'+os.path.join(root,filename))\n",
    "        name = os.path.splitext(os.path.basename(filename))[0]\n",
    "        if filename.endswith(\".rar\") or filename.endswith(\".zip\"):\n",
    "            try:\n",
    "                arch = pyunpack.Archive(os.path.join(root,filename))\n",
    "                # os.mkdir(name)\n",
    "                arch.extractall(directory=root)\n",
    "                os.remove(os.path.join(root,filename))\n",
    "            except Exception as e:\n",
    "                print(\"ERROR: BAD ARCHIVE \"+os.path.join(root,filename))\n",
    "                print(e)\n",
    "                try:\n",
    "                    # os.path.join(root,filename)os.remove(filename)\n",
    "                    pass\n",
    "                except OSError as e: # this would be \"except OSError, e:\" before Python 2.6\n",
    "                    if e.errno != errno.ENOENT: # errno.ENOENT = no such file or directory\n",
    "                        raise # re-raise exception if a different error occured                \n",
    "            "
   ]
  }
 ],
 "metadata": {
  "kernelspec": {
   "display_name": "Python 3",
   "language": "python",
   "name": "python3"
  },
  "language_info": {
   "codemirror_mode": {
    "name": "ipython",
    "version": 3
   },
   "file_extension": ".py",
   "mimetype": "text/x-python",
   "name": "python",
   "nbconvert_exporter": "python",
   "pygments_lexer": "ipython3",
   "version": "3.8.10"
  },
  "orig_nbformat": 4
 },
 "nbformat": 4,
 "nbformat_minor": 2
}
