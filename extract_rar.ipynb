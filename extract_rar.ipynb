{
 "cells": [
  {
   "cell_type": "code",
   "execution_count": 22,
   "metadata": {},
   "outputs": [],
   "source": [
    "import os, zipfile, pyunpack\n",
    "basis_folder =  r'C:/Users/Admin'\n",
    "\n",
    "for root, dirs, files in os.walk(basis_folder):\n",
    "    for filename in files:\n",
    "        if filename.endswith(\".rar\") :\n",
    "            print('RAR:'+os.path.join(root,filename))\n",
    "        elif filename.endswith(\".zip\"):\n",
    "            print('ZIP:'+os.path.join(root,filename))\n",
    "        name = os.path.splitext(os.path.basename(filename))[0]\n",
    "        if filename.endswith(\".rar\") or filename.endswith(\".zip\"):\n",
    "            try:\n",
    "                arch = pyunpack.Archive(os.path.join(root,filename))\n",
    "                # os.mkdir(name)\n",
    "                arch.extractall(directory=root)\n",
    "                os.remove(os.path.join(root,filename))\n",
    "            except Exception as e:\n",
    "                print(\"ERROR: BAD ARCHIVE \"+os.path.join(root,filename))\n",
    "                print(e)\n",
    "                try:\n",
    "                    # os.path.join(root,filename)os.remove(filename)\n",
    "                    pass\n",
    "                except OSError as e: # this would be \"except OSError, e:\" before Python 2.6\n",
    "                    if e.errno != errno.ENOENT: # errno.ENOENT = no such file or directory\n",
    "                        raise # re-raise exception if a different error occured     "
   ]
  }
 ],
 "metadata": {
  "kernelspec": {
   "display_name": "Python 3",
   "language": "python",
   "name": "python3"
  },
  "language_info": {
   "codemirror_mode": {
    "name": "ipython",
    "version": 3
   },
   "file_extension": ".py",
   "mimetype": "text/x-python",
   "name": "python",
   "nbconvert_exporter": "python",
   "pygments_lexer": "ipython3",
   "version": "3.8.10"
  },
  "orig_nbformat": 4
 },
 "nbformat": 4,
 "nbformat_minor": 2
}
