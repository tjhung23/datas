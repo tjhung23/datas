{
 "cells": [
  {
   "cell_type": "code",
   "execution_count": null,
   "metadata": {},
   "outputs": [],
   "source": [
    "import warnings\n",
    "warnings.simplefilter(action='ignore', category=FutureWarning)\n",
    "warnings.simplefilter(action='ignore', category=UserWarning)\n",
    "import pandas as pd\n",
    "import glob\n",
    "import os\n",
    "import re\n",
    "xlpath = 'C:/Users/Admin/OneDrive/GoogleDrive/python/VSCODE/COD/T01/*/'\n",
    "\n",
    "# get file name list of .xlsx files in the directory\n",
    "result = glob.glob(xlpath + \"*.*\")\n",
    "for filename1 in result:\n",
    "    with open(filename1, encoding='Latin1') as file:\n",
    "        sign=file.read(5)\n",
    "        if sign==\"<html\":\n",
    "            df2=pd.read_html(filename1)\n",
    "            df2=pd.DataFrame(df2[0])\n",
    "            df2.to_excel(filename1)"
   ]
  },
  {
   "cell_type": "code",
   "execution_count": null,
   "metadata": {},
   "outputs": [],
   "source": [
    "import glob\n",
    "import os\n",
    "import pandas as pd\n",
    "import numpy as np\n",
    "import re\n",
    "import matplotlib.pyplot as plt\n",
    "import seaborn as sns\n",
    "import matplotlib.ticker as ticker\n",
    "color_pal = sns.color_palette()\n",
    "plt.style.use('fivethirtyeight')\n",
    "#pd.set_option('display.max_columns', None) \n",
    "# path = r'C:/Users/Admin/OneDrive/GoogleDrive/python/VSCODE/COD/sknh_20230220'\n",
    "# path = r'C:/Users/HUNGNH.DESKTOP-2PD9TN1/Google Drive/python/pythoncourse/VND/T11'\n",
    "xlpath = 'C:/Users/Admin/OneDrive/GoogleDrive/python/VSCODE/COD/T01/*/'\n",
    "\n",
    "# get file name list of .xlsx files in the directory\n",
    "result = glob.glob(xlpath + \"*.*\")\n",
    "\n",
    "# extension = 'xls*'\n",
    "# os.chdir(path)\n",
    "# result = glob.glob('*.{}'.format(extension))\n",
    "data =pd.DataFrame(columns=['Date','Datetime','Des','Amount','Bank'])\n",
    "for filename in result:\n",
    "    # print(filename)\n",
    "    df = pd.read_excel(filename,index_col=None)\n",
    "    if len(df)>12 and df.iloc[0,2] =='NGÂN HÀNG TMCP ĐẦU TƯ VÀ PHÁT TRIỂN VIỆT NAM': #get BIDV\n",
    "        tmp = df.copy()\n",
    "        tmp = tmp.iloc[10:-5,1:]\n",
    "        tmp.columns = tmp.iloc[0] # lấy dòng đầu làm header\n",
    "        tmp= tmp.iloc[2:]\n",
    "        tmp = tmp.drop(tmp.columns[[1,2,4]],axis=1)\n",
    "        tmp = tmp.dropna()\n",
    "        tmp['Bank'] = 'BID'\n",
    "        tmp.columns.values[:] =['Date','Amount','Des','Bank'] # đặt tên cho cột theo thứ tự\n",
    "        # tmp['Amount'] = tmp['Amount'].str.replace(\",\",\"\")\n",
    "        tmp['Datetime'] =  pd.to_datetime(tmp['Date']).dt.strftime('%H:%M:%S')\n",
    "        tmp['Date'] =  pd.to_datetime(tmp['Date']).dt.strftime('%d/%m/%Y')\n",
    "        tmp = tmp[['Date','Datetime','Des','Amount','Bank']]\n",
    "        tmp['Datetime'] =  tmp['Datetime'].str[:2]\n",
    "        tmp['Amount']= tmp['Amount'].astype(str).apply(lambda x: x.replace(',0',''))\n",
    "        tmp = tmp[tmp.Amount!=0]\n",
    "        tmp['Date'] =  pd.to_datetime(tmp['Date']).dt.strftime('%d/%m/%Y')\n",
    "        data = data.append(tmp)\n",
    "        print(filename)\n",
    "    if len(df)>10 and df.iloc[1,4]=='7011111777777': # get MBB\n",
    "        tmp = df.copy()\n",
    "        tmp = tmp.iloc[9:-3,2:-1]\n",
    "        tmp.columns = tmp.iloc[0]\n",
    "        tmp = tmp.iloc[1:,:]\n",
    "        tmp = tmp.drop(tmp.columns[[2,4,5,6]],axis=1)\n",
    "        tmp['Bank'] = 'MBB'\n",
    "        tmp.columns.values[:] =['Date','Datetime','Amount','Des','Bank'] #đặt tên cho cột theo thứ tự\n",
    "        tmp = tmp[['Date','Datetime','Des','Amount','Bank']]\n",
    "        tmp['Datetime'] =  pd.to_datetime(tmp['Date']).dt.strftime('%H:%M:%S')\n",
    "        tmp['Date'] =  pd.to_datetime(tmp['Date']).dt.strftime('%d/%m/%Y')\n",
    "        tmp['Datetime'] =  tmp['Datetime'].str[:2]\n",
    "        tmp = tmp.dropna()\n",
    "        tmp['Date'] =  pd.to_datetime(tmp['Date']).dt.strftime('%d/%m/%Y')\n",
    "        data = data.append(tmp)\n",
    "        print(filename)\n",
    "    if len(df)>5 and df.iloc[0,0]=='ACCOUNT STATEMENT':# get MSB\n",
    "        tmp = df.copy()\n",
    "        tmp = tmp.iloc[4:-10,:]\n",
    "        tmp.columns = tmp.iloc[0]\n",
    "        tmp = tmp.iloc[1:,:-3]\n",
    "        tmp = tmp.drop(tmp.columns[[0,2,4]],axis=1)\n",
    "        tmp.columns.values[:] =['Date','Des','Amount'] #đặt tên cho cột theo thứ tự\n",
    "        tmp['Bank'] = 'MSB'\n",
    "        tmp['Datetime'] =  pd.to_datetime(tmp['Date']).dt.strftime('%H:%M:%S')\n",
    "        tmp['Date'] =  pd.to_datetime(tmp['Date']).dt.strftime('%d/%m/%Y')\n",
    "        tmp = tmp[['Date','Datetime','Des','Amount','Bank']]\n",
    "        tmp['Datetime'] =  tmp['Datetime'].str[:2]\n",
    "        tmp = tmp[tmp.Amount!=0]\n",
    "        tmp['Date'] =  pd.to_datetime(tmp['Date']).dt.strftime('%d/%m/%Y')\n",
    "        data = data.append(tmp)\n",
    "        print(filename)\n",
    "    if len(df)>18 and df.iloc[10,2]=='1':# get TCB\n",
    "        tmp = df.copy()\n",
    "        tmp = tmp.iloc[17:,:]\n",
    "        tmp.columns = tmp.iloc[0]\n",
    "        tmp = tmp.iloc[1:,:]\n",
    "        tmp = tmp.drop(tmp.columns[[0,4,5,6,8]],axis=1)\n",
    "        tmp = tmp.dropna()\n",
    "        tmp.columns.values[:] =['Date','Datetime','Des','Amount']\n",
    "        tmp['Bank'] = 'TCB'\n",
    "        tmp['Datetime'] =  pd.to_datetime(tmp['Datetime']).dt.strftime('%H:%M:%S')\n",
    "        tmp['Datetime'] =  tmp['Datetime'].str[:2]\n",
    "        # tmp['Date'] =  pd.to_datetime(tmp['Date']).dt.strftime('%d/%m/%Y')\n",
    "        data = data.append(tmp)\n",
    "        print(filename)\n",
    "    if len(df)>8 and df.iloc[5,2]=='333':# get TPB\n",
    "        tmp = df.copy()\n",
    "        tmp = tmp.iloc[7:-5,:-4]\n",
    "        tmp.columns = tmp.iloc[0]\n",
    "        tmp = tmp.iloc[1:,:]\n",
    "        tmp = tmp.drop(tmp.columns[[3]],axis=1)\n",
    "        tmp.columns.values[:] =['Datetime','Date','Des','Amount']\n",
    "        # tmp['Amount'] = tmp['Amount'].str.replace(\",\",\"\") # bỏ ký tự ,\n",
    "        tmp = tmp.dropna()\n",
    "        tmp['Bank'] = 'TPB'\n",
    "        tmp = tmp[['Date','Datetime','Des','Amount','Bank']]\n",
    "        tmp['Amount']= tmp['Amount'].astype(str).apply(lambda x: x.replace(',',''))\n",
    "        tmp['Datetime'] =  pd.to_datetime(tmp['Datetime']).dt.strftime('%H:%M:%S')\n",
    "        tmp['Datetime'] =  tmp['Datetime'].str[:2]\n",
    "        # tmp['Date'] =  pd.to_datetime(tmp['Date']).dt.strftime('%d/%m/%Y')\n",
    "        data = data.append(tmp)\n",
    "        print(filename)\n",
    "    if len(df)>24 and df.iloc[10,2]=='111': # get VTB\n",
    "        tmp = df.copy()\n",
    "        tmp = tmp.iloc[23:,1:-6]\n",
    "        tmp.columns = tmp.iloc[0]\n",
    "        tmp = tmp.iloc[1:,:]\n",
    "        tmp = tmp.drop(tmp.columns[[2]],axis=1)\n",
    "        tmp.columns.values[:] =['Date','Des','Amount']\n",
    "        tmp = tmp[tmp.Amount!=0]\n",
    "        tmp['Bank'] = 'VTB'\n",
    "        tmp['Datetime'] =  pd.to_datetime(tmp['Date']).dt.strftime('%H:%M:%S')\n",
    "        tmp['Datetime'] =  tmp['Datetime'].str[:2]\n",
    "        tmp['Date'] =  pd.to_datetime(tmp['Date']).dt.strftime('%d/%m/%Y')\n",
    "        tmp = tmp[['Date','Datetime','Des','Amount','Bank']]\n",
    "        tmp = tmp[['Date','Datetime','Des','Amount','Bank']]\n",
    "        tmp['Date'] =  pd.to_datetime(tmp['Date']).dt.strftime('%d/%m/%Y')\n",
    "        data = data.append(tmp)\n",
    "        print(filename)\n",
    "    if len(df)>1 and df.iloc[6,1]=='MÃ NCCDV: GHN1': # GET VTP\n",
    "        tmp = df.copy()\n",
    "        tmp = tmp.iloc[9:,8:-2]\n",
    "        tmp.columns = tmp.iloc[0]\n",
    "        tmp = tmp.iloc[1:,:]\n",
    "        # tmp = tmp.rename(columns={'Số tiền': 'Amount', 'Ngày giao dịch': 'Date', 'Thông tin GD': 'Des'})\n",
    "        tmp.columns.values[:] =['Amount','Date','Des']\n",
    "        tmp['Bank'] = 'VTP'\n",
    "        tmp['Datetime'] =  pd.to_datetime(tmp['Date']).dt.strftime('%H:%M:%S')\n",
    "        tmp['Datetime'] =  tmp['Datetime'].str[:2]\n",
    "        tmp['Date'] =  pd.to_datetime(tmp['Date']).dt.strftime('%d/%m/%Y')\n",
    "        tmp = tmp[['Date','Datetime','Des','Amount','Bank']]\n",
    "        tmp['Date'] =  pd.to_datetime(tmp['Date']).dt.strftime('%d/%m/%Y')\n",
    "        data = data.append(tmp)\n",
    "        print(filename)\n",
    "    if len(df)>6 and df.iloc[0,1]=='Họ tên khách hàng: ': # GET VTP\n",
    "        tmp = df.copy()\n",
    "        tmp = tmp.iloc[6:,1:-1]\n",
    "        tmp.columns = tmp.iloc[0]\n",
    "        tmp = tmp.iloc[1:,:]\n",
    "        tmp = tmp.drop(tmp.columns[[2,4]],axis=1)\n",
    "        tmp = tmp.dropna()\n",
    "        tmp.columns.values[:] =['Date','Datetime','Des',\"Amount\"]\n",
    "        tmp['Bank'] = 'ACB'\n",
    "        # tmp['Date'] =  pd.to_datetime(tmp['Date'],format='%d/%m/%Y')\n",
    "        tmp['Datetime'] =  pd.to_datetime(tmp['Datetime']).dt.strftime('%H:%M:%S')\n",
    "        tmp['Datetime'] =  tmp['Datetime'].str[:2]\n",
    "        tmp['Amount']= tmp['Amount'].astype(str).apply(lambda x: x.replace('.00',''))\n",
    "        tmp = tmp[['Date','Datetime','Des','Amount','Bank']]\n",
    "        # tmp['Date'] =  pd.to_datetime(tmp['Date']).dt.strftime('%d/%m/%Y')\n",
    "        data = data.append(tmp)    \n",
    "        print(filename)\n",
    "data['Amount']= data['Amount'].astype(str).apply(lambda x: x.replace(',','')) # bỏ ký tự ,\n",
    "data = data.dropna()\n",
    "data['Amount'] = pd.to_numeric(data['Amount'])\n",
    "data = data[data['Amount'] >0]\n",
    "# tmp.sort_values('Datetime')\n",
    "# data['Amount'] = pd.to_numeric(data['Amount'])\n",
    "data['Datetime'] = pd.to_numeric(data['Datetime'])\n",
    "# data['Date'] =  pd.to_datetime(data['Date'])\n",
    "import warnings\n",
    "warnings.simplefilter(action='ignore', category=FutureWarning)\n",
    "warnings.simplefilter(action='ignore', category=UserWarning)\n",
    "data['Des'] = data['Des'].str.upper()\n",
   
    "\n",
    "# data1.to_excel('data1.xlsx')\n",
    "# data.to_excel('data.xlsx')\n"
   ]
  },
  {
   "cell_type": "code",
   "execution_count": null,
   "metadata": {},
   "outputs": [],
   "source": [
    "# data[data.Amount=='1,328,500']"
   ]
  },
  {
   "cell_type": "code",
   "execution_count": null,
   "metadata": {},
   "outputs": [],
   "source": [
    "# data.info()"
   ]
  },
  {
   "cell_type": "markdown",
   "metadata": {},
   "source": []
  },
  {
   "attachments": {},
   "cell_type": "markdown",
   "metadata": {},
   "source": [
    "###TỔNG SỐ LƯỢNG GIAO DỊCH NỘP TIỀN VÀO CÁC TÀI KHOẢN NGÂN HÀNG"
   ]
  },
  {
   "attachments": {},
   "cell_type": "markdown",
   "metadata": {},
   "source": [
    "##THÁNG 02/2023"
   ]
  },
  {
   "cell_type": "code",
   "execution_count": null,
   "metadata": {},
   "outputs": [],
   "source": [
    "# for name in data['Bank'].unique():\n",
    "#     # fig, ax = plt.subplots()\n",
    "#     subb = data[data.Bank == name] # loop filter data by Bank\n",
    "#     subb2 = subb['Bank'].value_counts().reset_index() #Count quantity transaction by Bank\n",
    "#     # subb2\n",
    "#     print('================')\n",
    "#     print(subb2)"
   ]
  },
  {
   "attachments": {},
   "cell_type": "markdown",
   "metadata": {},
   "source": [
    "###TỔNG SỐ LƯỢNG GIAO DỊCH NỘP COD TRONG tháng 2/2023 THEO CÁC NGÂN HÀNG"
   ]
  },
  {
   "cell_type": "code",
   "execution_count": null,
   "metadata": {},
   "outputs": [],
   "source": [
    "proportion = data.Bank.value_counts(normalize = True).reset_index()\n",
    "count = data.Bank.value_counts().reset_index()\n",
    "\n",
    "df_merged = proportion.merge(count, right_on='index',left_on='index')\n",
    "# df_merged.columns.values[:] =['Bank','Rate','quantity']\n",
    "# proportion\n",
    "# count\n",
    "df_merged.rename(columns={df_merged.columns[0]: 'Bank', df_merged.columns[1]: 'Rate', df_merged.columns[2]: 'Quantity'},inplace=True)\n",
    "df_merged['Rate'] = df_merged['Rate'].astype(float).map(lambda n: '{:.2%}'.format(n))# show value percentage\n",
    "\n",
    "df_merged.loc['Total'] = pd.Series(df_merged['Quantity'].sum(), index = ['Quantity'])# add row total in the end\n",
    "df_merged.fillna('',inplace = True)\n",
    "df_merged['Quantity'] = df_merged['Quantity'].astype(int).map(lambda n: '{:,}'.format(n))# show value fomat thounsand ,\n",
    "df_merged\n"
   ]
  },
  {
   "cell_type": "markdown",
   "metadata": {},
   "source": [
    "### TỶ LỆ SỐ LƯỢNG GIAO DỊCH NỘP COD TẠI CÁC NGÂN HÀNG T1/2023"
   ]
  },
  {
   "cell_type": "code",
   "execution_count": null,
   "metadata": {},
   "outputs": [],
   "source": [
    "def autopct_format(values):\n",
    "        def my_format(pct):\n",
    "            total = sum(values)\n",
    "            val = int(round(pct*total/100.0))\n",
    "            return '{:.1f}%'.format(pct, v=val)\n",
    "        return my_format\n",
    "plt.pie(proportion['Bank'],labels =proportion['index'],autopct=autopct_format(proportion['Bank']) )\n",
    "plt.title('Transactions')\n",
    "plt.show()"
   ]
  },
  {
   "cell_type": "code",
   "execution_count": null,
   "metadata": {},
   "outputs": [],
   "source": [
    "bank_sum = data.groupby('Bank')['Amount'].sum()\n",
    "bank_sum = bank_sum.reset_index()\n",
    "bank_sum=bank_sum.sort_values('Amount',ascending=False)\n",
    "bank_sum.loc['Total'] = pd.Series(bank_sum['Amount'].sum(), index = ['Amount'])# add row total in the end\n",
    "\n",
    "bank_sum.fillna('Total',inplace = True)\n",
    "bank_sum['Amount'] = bank_sum['Amount'].map(lambda n: '{:,.0f}'.format(n))\n",
    "bank_sum = bank_sum.reset_index()\n",
    "bank_sum = bank_sum.drop(bank_sum.columns[0],axis=1)\n",
    "# bank_sum"
   ]
  },
  {
   "cell_type": "code",
   "execution_count": null,
   "metadata": {},
   "outputs": [],
   "source": [
    "bank_sum_rate = data.copy()\n",
    "bank_sum_rate['proportion'] = bank_sum_rate['Amount']*100 / bank_sum_rate['Amount'].sum()\n",
    "bank_sum_rate = bank_sum_rate.groupby('Bank')['proportion'].sum()\n",
    "bank_sum_rate = bank_sum_rate.reset_index()\n",
    "bank_sum_rate = bank_sum_rate.sort_values('proportion',ascending=False)\n",
    "bank_sum_rate.loc['Total'] = pd.Series(bank_sum_rate['proportion'].sum(), index = ['Amount'])# add row total in the end\n",
    "bank_sum_rate['proportion'] = bank_sum_rate['proportion'].astype(float).map(lambda n: '{:.2f}%'.format(n))\n",
    "# bank_sum_rate = bank_sum_rate.sort_values('\tproportion',ascending=False)\n",
    "bank_sum_rate.fillna('Total',inplace = True)\n",
    "bank_sum_rate = bank_sum_rate.reset_index()\n",
    "bank_sum_rate = bank_sum_rate.drop(bank_sum_rate.columns[0],axis=1)\n",
    "# bank_sum_rate.info()"
   ]
  },
  {
   "attachments": {},
   "cell_type": "markdown",
   "metadata": {},
   "source": [
    "###DÒNG TIỀN COD NỘP VÀO CÁC TÀI KHOẢN NGÂN HÀNG"
   ]
  },
  {
   "cell_type": "code",
   "execution_count": null,
   "metadata": {},
   "outputs": [],
   "source": [
    "df_merged_amount = bank_sum_rate.merge(bank_sum, right_on='Bank',left_on='Bank')\n",
    "df_merged_amount = df_merged_amount[['Bank','Amount','proportion']]\n",
    "df_merged_amount['Amount']= df_merged_amount['Amount'].astype(str).apply(lambda x: x.replace(',','')) # bỏ ký tự ,\n",
    "# data = data.dropna()\n",
    "df_merged_amount['Amount'] = pd.to_numeric(df_merged_amount['Amount'])\n",
    "# df_merged_amount.loc['Total'] = pd.Series(df_merged_amount['Amount'].sum(), index = ['Amount'])\n",
    "df_merged_amount.fillna('Total',inplace = True)\n",
    "df_merged_amount['Amount'] = df_merged_amount['Amount'].map(lambda n: '{:,.0f}'.format(n))\n",
    "df_merged_amount['proportion']= df_merged_amount['proportion'].astype(str).apply(lambda x: x.replace('nan%','')) # bỏ ký tự ,\n",
    "\n",
    "\n",
    "df_merged_amount"
   ]
  },
  {
   "attachments": {},
   "cell_type": "markdown",
   "metadata": {},
   "source": [
    "### TỶ TRỌNG DÒNG TIỀN COD NỘP VÀO CÁC TÀI KHOẢN NGÂN HÀNG T1/2023"
   ]
  },
  {
   "cell_type": "code",
   "execution_count": null,
   "metadata": {},
   "outputs": [],
   "source": [
    "plot_bank_sum_rate= bank_sum_rate.copy()\n",
    "plot_bank_sum_rate = plot_bank_sum_rate.iloc[:-1,:]\n",
    "plot_bank_sum_rate['proportion'] = plot_bank_sum_rate['proportion'].astype(str).apply(lambda x: x.replace('%',''))\n",
    "plot_bank_sum_rate['proportion'] = plot_bank_sum_rate['proportion'].astype(float)\n",
    "# plot_bank_sum_rate"
   ]
  },
  {
   "cell_type": "code",
   "execution_count": null,
   "metadata": {},
   "outputs": [],
   "source": [
    "# plot_bank_sum_rate.info()"
   ]
  },
  {
   "cell_type": "code",
   "execution_count": null,
   "metadata": {},
   "outputs": [],
   "source": [
    "def autopct_format(values):\n",
    "        def my_format(pct):\n",
    "            total = sum(values)\n",
    "            val = int(round(pct*total/100.0))\n",
    "            return '{:.1f}%'.format(pct, v=val)\n",
    "        return my_format\n",
    "plt.pie(plot_bank_sum_rate['proportion'],labels =plot_bank_sum_rate['Bank'],autopct=autopct_format(plot_bank_sum_rate['proportion']) )\n",
    "plt.title('Amount')\n",
    "plt.show()"
   ]
  },
  {
   "attachments": {},
   "cell_type": "markdown",
   "metadata": {},
   "source": [
    "### BIỂU ĐỒ THỂ HIỆN SỐ LƯỢNG GHI CÓ TRONG tháng 2/2023 VÀO CÁC TÀI KHOẢN NGÂN HÀNG THEO THỜI GIAN TRONG NGÀY "
   ]
  },
  {
   "cell_type": "markdown",
   "metadata": {},
   "source": []
  },
  {
   "cell_type": "code",
   "execution_count": null,
   "metadata": {},
   "outputs": [],
   "source": [
    "plt.style.use('seaborn')\n",
    "\n",
    "for name in data['Bank'].unique():\n",
    "    fig, ax = plt.subplots()\n",
    "    sub = data[data.Bank == name] # loop filter data by Bank\n",
    "    sub2 = sub.groupby('Datetime').count().reset_index() # groupby Bank , hour \n",
    "    sns.barplot(y='Amount',x='Datetime',data=sub2, ax=ax)\n",
    "    ax.set_title(name.upper())\n",
    "    plt.ylabel(\"Quantity of Transaction\")\n",
    "    plt.xlabel(\"Hour\")\n",
    "    # plt.title(\"Colors vs Values\")\n",
    "    for i in ax.containers:\n",
    "        ax.bar_label(i,)\n",
    "warnings.simplefilter(action='ignore', category=DeprecationWarning)"
   ]
  },
  {
   "attachments": {},
   "cell_type": "markdown",
   "metadata": {},
   "source": [
    "### BIỂU ĐỒ THỂ HIỆN DÒNG TIỀN COD GHI CÓ TRONG tháng 2/2023 VÀO CÁC TÀI KHOẢN NGÂN HÀNG THEO THỜI GIAN TRONG NGÀY "
   ]
  },
  {
   "cell_type": "code",
   "execution_count": null,
   "metadata": {},
   "outputs": [],
   "source": [
    "plt.style.use('seaborn')\n",
    "\n",
    "for name in data['Bank'].unique():\n",
    "    fig, ax = plt.subplots()\n",
    "    sub = data[data.Bank == name] # loop filter data by Bank\n",
    "    sub2 = sub.groupby('Datetime')['Amount'].sum().reset_index() # groupby Bank , hour \n",
    "    # sub2 = sub2.reset_index()\n",
    "    sns.barplot(y='Amount',x='Datetime',data=sub2, ax=ax)\n",
    "    ax.set_title(name.upper())\n",
    "    ax.text(-0.15, 0.97, \"Billions\", transform = ax.transAxes, ha = \"left\", va = \"top\")\n",
    "    ax.yaxis.set_major_formatter(ticker.FuncFormatter(lambda y, pos: '{:,.0f}'.format(y/1000000000)))\n",
    "    plt.ylabel(\"Amount\")\n",
    "    plt.xlabel(\"Hour\")\n",
    "    # plt.title(\"Colors vs Values\")\n",
    "    for i in ax.containers:\n",
    "        ax.bar_label(i,labels=['{:,.0f}'.format(x/1000000000) for x in i.datavalues])\n",
    "warnings.simplefilter(action='ignore', category=DeprecationWarning)"
   ]
  },
  {
   "cell_type": "code",
   "execution_count": null,
   "metadata": {},
   "outputs": [],
   "source": [
    "### BIỂU ĐỒ THỂ HIỆN MẬT ĐỘ SỐ LƯỢNG GHI CÓ THEO GIÁ TRỊ TRONG tháng 2/2023 VÀO CÁC TÀI KHOẢN NGÂN HÀNG THEO THỜI GIAN TRONG NGÀY "
   ]
  },
  {
   "attachments": {},
   "cell_type": "markdown",
   "metadata": {},
   "source": [
    "### BIỂU ĐỒ THỂ HIỆN MẬT ĐỘ SỐ LƯỢNG GHI CÓ THEO GIÁ TRỊ TRONG tháng 2/2023 VÀO CÁC TÀI KHOẢN NGÂN HÀNG THEO THỜI GIAN TRONG NGÀY "
   ]
  },
  {
   "cell_type": "code",
   "execution_count": null,
   "metadata": {},
   "outputs": [],
   "source": [
    "plt.style.use('seaborn')\n",
    "\n",
    "for name in data['Bank'].unique():\n",
    "    fig, ax = plt.subplots()\n",
    "    sub = data[data.Bank == name] # loop filter data by Bank\n",
    "    sub2 = sub.groupby('Datetime').count().reset_index() # groupby Bank , hour \n",
    "    sns.boxplot(y='Amount',x='Datetime',data=sub, ax=ax)\n",
    "    ax.set_title(name.upper())\n",
    "    ax.yaxis.set_major_formatter(ticker.FuncFormatter(lambda y, pos: '{:,.0f}'.format(y/1000000)))\n",
    "    plt.ylabel(\"Amount\")\n",
    "    plt.xlabel(\"Hour\")\n",
    "    # plt.title(\"Colors vs Values\")\n",
    "    # for i in ax.containers:\n",
    "    #     ax.bar_label(i,)\n",
    "warnings.simplefilter(action='ignore', category=DeprecationWarning)"
   ]
  },
  {
   "cell_type": "code",
   "execution_count": null,
   "metadata": {},
   "outputs": [],
   "source": [
    "# data"
   ]
  },
  {
   "cell_type": "code",
   "execution_count": null,
   "metadata": {},
   "outputs": [],
   "source": [
    "# data.to_excel('data.xlsx')"
   ]
  },
  {
   "cell_type": "code",
   "execution_count": null,
   "metadata": {},
   "outputs": [],
   "source": [
    "#convert to dayname\n",
    "import datetime\n",
    "data['Date'] =  pd.to_datetime(data['Date'].astype(str),format='%d/%m/%Y')\n",
    "# data['Date'] =  pd.to_datetime(data.Date, format ='%d-%m-%Y')\n",
    "data['Dayname']= data['Date'].dt.dayofweek\n",
    "days = {0:'Mon',1:'Tues',2:'Weds',3:'Thurs',4:'Fri',5:'Sat',6:'Sun'}\n",
    "# data['Date'] =  pd.to_datetime(data.Date, format ='%d/%m/%Y')\n",
    "data['Dayname'] = data['Dayname'].apply(lambda x: days[x])\n",
    "# data.to_excel('data.xlsx')"
   ]
  },
  {
   "cell_type": "code",
   "execution_count": null,
   "metadata": {},
   "outputs": [],
   "source": [
    "# data.info()"
   ]
  },
  {
   "cell_type": "code",
   "execution_count": null,
   "metadata": {},
   "outputs": [],
   "source": [
    "days = [\"Mon\", \"Tues\", \"Weds\", \"Thurs\", \"Fri\", \"Sat\", \"Sun\"]\n",
    "\n",
    "#Using Categorical() function to set the order according to how it is arranged above\n",
    "data[\"Dayname\"] = pd.Categorical(data.Dayname, categories=days, ordered=True)\n",
    "# data\n"
   ]
  },
  {
   "attachments": {},
   "cell_type": "markdown",
   "metadata": {},
   "source": [
    "### BIỂU ĐỒ THỂ HIỆN SỐ LƯỢNG GHI CÓ THEO CÁC NGÀY TRONG TUÂN CỦA tháng 2/2023 VÀO CÁC TÀI KHOẢN NGÂN HÀNG"
   ]
  },
  {
   "cell_type": "code",
   "execution_count": null,
   "metadata": {},
   "outputs": [],
   "source": [
    "plt.style.use('seaborn')\n",
    "\n",
    "for name in data['Bank'].unique():\n",
    "    fig, ax = plt.subplots()\n",
    "    sub = data[data.Bank == name]\n",
    "    sub = sub.sort_values('Dayname') # loop filter data by Bank\n",
    "    sub2 = sub.groupby('Dayname').count().reset_index() # groupby Bank , hour \n",
    "    sns.barplot(y='Amount',x='Dayname',data=sub2, ax=ax)\n",
    "    ax.set_title(name.upper())\n",
    "    # ax.yaxis.set_major_formatter(ticker.FuncFormatter(lambda y, pos: '{:,.0f}'.format(y/1000000)))\n",
    "    plt.ylabel(\"Quantity of Transaction\")\n",
    "    plt.xlabel(\"Dayname\")\n",
    "    # plt.title(\"Colors vs Values\")\n",
    "    # for i in ax.containers:\n",
    "    #     ax.bar_label(i,)\n",
    "    for i in ax.containers:\n",
    "        ax.bar_label(i,)\n",
    "warnings.simplefilter(action='ignore', category=DeprecationWarning)"
   ]
  },
  {
   "attachments": {},
   "cell_type": "markdown",
   "metadata": {},
   "source": [
    "### BIỂU ĐỒ THỂ HIỆN DÒNG TIỀN GHI CÓ THEO CÁC NGÀY TRONG TUÂN CỦA tháng 2/2023 VÀO CÁC TÀI KHOẢN NGÂN HÀNG"
   ]
  },
  {
   "cell_type": "code",
   "execution_count": null,
   "metadata": {},
   "outputs": [],
   "source": [
    "# sub"
   ]
  },
  {
   "cell_type": "code",
   "execution_count": null,
   "metadata": {},
   "outputs": [],
   "source": [
    "plt.style.use('seaborn')\n",
    "\n",
    "for name in data['Bank'].unique():\n",
    "    fig, ax = plt.subplots()\n",
    "    sub = data[data.Bank == name]\n",
    "    sub = sub.sort_values('Dayname') # loop filter data by Bank\n",
    "    sub2 = sub.groupby('Dayname')['Amount'].sum().reset_index() # groupby Bank , hour \n",
    "    sub2 = sub2.sort_values('Dayname')\n",
    "    sns.barplot(y='Amount',x='Dayname',data=sub2, ax=ax)\n",
    "    ax.set_title(name.upper())\n",
    "    ax.yaxis.set_major_formatter(ticker.FuncFormatter(lambda y, pos: '{:,.0f}'.format(y/1000000000)))\n",
    "    ax.text(-0.15, 0.97, \"Billions\", transform = ax.transAxes, ha = \"left\", va = \"top\")\n",
    "    plt.ylabel(\"Amount\")\n",
    "    plt.xlabel(\"Dayname\")\n",
    "    # plt.title(\"Colors vs Values\")\n",
    "    # for i in ax.containers:\n",
    "    #     ax.bar_label(i,)\n",
    "    for i in ax.containers:\n",
    "        ax.bar_label(i,labels=['{:,.0f}'.format(x/1000000000) for x in i.datavalues])\n",
    "warnings.simplefilter(action='ignore', category=DeprecationWarning)"
   ]
  },
  {
   "cell_type": "code",
   "execution_count": null,
   "metadata": {},
   "outputs": [],
   "source": [
    "def get_loc_id_kho(x):\n",
    "    import re\n",
    "    tokens = [number for number in re.findall(\"\\d+\", str(x)) if len(number) == 4 or len(number) == 8]\n",
    "    if len(tokens) >=1:\n",
    "        return tokens\n",
    "    else:\n",
    "        return None\n",
    "def get_loc_id_nv(x):\n",
    "    import re\n",
    "    tokens = [number for number in re.findall(\"\\d+\", str(x)) if len(number) == 6 or len(number) == 7]\n",
    "    if len(tokens) >=1:\n",
    "        return tokens\n",
    "    else:\n",
    "        return None"
   ]
  },
  {
   "cell_type": "code",
   "execution_count": null,
   "metadata": {},
   "outputs": [],
   "source": [
    "data_map_id_kho = data.copy() # data lấy được mã kho\n",
    "# data_map_id_nv = data.copy()\n",
    "data_map_id_kho['Des'] = data_map_id_kho[\"Des\"].str.replace('00 0','000')\n",
    "data_map_id_kho['id_kho'] = data_map_id_kho['Des'].apply(get_loc_id_kho)\n",
    "\n",
    "# data_map_id.head()"
   ]
  },
  {
   "cell_type": "code",
   "execution_count": null,
   "metadata": {},
   "outputs": [],
   "source": [
    "data_map_id_kho_null = data_map_id_kho[data_map_id_kho['id_kho'].isnull()] #data không lấy được mã kho\n",
    "data_map_id_kho = data_map_id_kho.explode('id_kho')"
   ]
  },
  {
   "cell_type": "code",
   "execution_count": null,
   "metadata": {},
   "outputs": [],
   "source": [
    "data_map_id_kho.info()"
   ]
  },
  {
   "cell_type": "code",
   "execution_count": null,
   "metadata": {},
   "outputs": [],
   "source": [
    "data_map_id_nv = data_map_id_kho_null.copy()\n",
    "data_map_id_nv['id_nv'] = data_map_id_nv['Des'].apply(get_loc_id_nv) #data lấy đc mã nhân viên"
   ]
  },
  {
   "cell_type": "code",
   "execution_count": null,
   "metadata": {},
   "outputs": [],
   "source": [
    "# data_map_id_nv.info()"
   ]
  },
  {
   "cell_type": "code",
   "execution_count": null,
   "metadata": {},
   "outputs": [],
   "source": [
    "data_null = data_map_id_nv[data_map_id_nv['id_nv'].isnull()] # data còn lại không lấy được\n",
    "data_null.to_excel('data_null.xlsx', index = False)"
   ]
  },
  {
   "cell_type": "code",
   "execution_count": null,
   "metadata": {},
   "outputs": [],
   "source": [
    "# final=pd.concat([data_map_id_kho, data_map_id_nv], axis=1)"
   ]
  },
  {
   "cell_type": "code",
   "execution_count": null,
   "metadata": {},
   "outputs": [],
   "source": [
    "\n",
    "data_map_id_nv = data_map_id_nv.explode('id_nv')"
   ]
  },
  {
   "cell_type": "code",
   "execution_count": null,
   "metadata": {},
   "outputs": [],
   "source": [
    "# data_map_id_kho.to_excel('id_kho.xlsx')"
   ]
  },
  {
   "cell_type": "code",
   "execution_count": null,
   "metadata": {},
   "outputs": [],
   "source": [
    "data_map_id_nv"
   ]
  },
  {
   "cell_type": "code",
   "execution_count": null,
   "metadata": {},
   "outputs": [],
   "source": [
    "def get_loc_id_kho_v3g8(x):\n",
    "    import re\n",
    "    tokens = [number for number in re.findall(\"V3\d{8}\", str(x)) ]\n",
    "    [_]BUU)\", str(x)) ]\n",
    "    if len(tokens) ==0:\n",
    "            return None\n",
    "    else: \n",
    "        return tokens[0]\n",
    "\n",
    "def get_loc_id_kho_v3g4(x):\n",
    "    import re\n",
    "    tokens = [number for number in re.findall(\"V3\\d{4}\", str(x)) ]\n",
    "    if len(tokens) ==0:\n",
    "            return None\n",
    "    else: \n",
    "        return tokens[0]\n",
    "def get_loc_id_kho_hub8(x):\n",
    "    import re\n",
    "    tokens = [number for number in re.findall(\"HUB\\d{8}\", str(x)) ]\n",
    
    "    if len(tokens) ==0:\n",
    "            return None\n",
    "    else: \n",
    "        return tokens[0]\n",
    "def get_loc_id_kho_hub4(x):\n",
    "    import re\n",
    "    tokens = [number for number in re.findall(\"HUB\\d{4}\", str(x)) ]\n",

    "    if len(tokens) ==0:\n",
    "            return None\n",
    "    else: \n",
    "        return tokens[0]\n",
    "def get_loc_id_kho_buucuc8(x):\n",
    "    import re\n",
    "    tokens = [number for number in re.findall(\"\\d{8}[_]BUU\", str(x)) ]\n",
    "    if len(tokens) ==0:\n",
    "            return None\n",
    "    else: \n",
    "        return tokens[0]\n",
    "def get_loc_id_kho_buucuc4(x):\n",
    "    import re\n",
    "    tokens = [number for number in re.findall(\"\\d{4}[_]BUU\", str(x)) ]\n",
    "    if len(tokens) ==0:\n",
    "            return None\n",
    "    else: \n",
    "        return tokens[0]\n",
    "def get_loc_id_kho_8(x):\n",
    "    import re\n",
    "    tokens = [number for number in re.findall(\"\\d+\", str(x)) if len(number) == 8 ] #or len(number) == 6 or len(number) == 7\n",
    "    if len(tokens) == 0:\n",
    "        return None\n",
    "    else:\n",
    "        return tokens[0]\n",
    "\n",
    "def get_loc_id_kho_4(x):\n",
    "    import re\n",
    "    import re\n",
    "    tokens = [number for number in re.findall(\"\\d+\", str(x)) if len(number) == 4 ] #or len(number) == 6 or len(number) == 7\n",
    "    if len(tokens) == 0:\n",
    "        return None\n",
    "    else:\n",
    "        return tokens[0]\n"
   ]
  },
  {
   "cell_type": "code",
   "execution_count": null,
   "metadata": {},
   "outputs": [],
   "source": [
    "v3ghn8 = data.copy()\n",
    "kho_id = pd.read_excel('LIST_KHO.xlsx')\n",
    "#59201"
   ]
  },
  {
   "cell_type": "code",
   "execution_count": null,
   "metadata": {},
   "outputs": [],
   "source": [
  
    "# id2['Des'] = id2[\"Des\"].str.replace('00 0','000')\n",
    "m2 = v3g8['id'].isna()\n",
    "data_t1 = v3g8[~m2]\n",
    "# v3g8.info()\n",
    "# data_t1.info()"
   ]
  },
  {
   "cell_type": "code",
   "execution_count": null,
   "metadata": {},
   "outputs": [],
   "source": [
    "# v3g4 = v3g8[m2].info()\n",
    "v3g4 = v3g8[m2]\n",
    "v3g4['id'] = v3g4['Des'].apply(get_loc_id_kho_v3g4)\n",
    "m3 = v3g4['id'].isna()\n",
    "data_t2 = v3g4[~m3]\n",
    "# data_t2.info()"
   ]
  },
  {
   "cell_type": "code",
   "execution_count": null,
   "metadata": {},
   "outputs": [],
   "source": [
    "hub8 = v3ghn4[m3]\n",
    "# hub8['Des']= hub8['Des'].str.replace('HUB ','HUB')\n",
    "# hub8['Des']= hub8['Des'].str.replace('HU','HUB')\n",
    "# hub8['Des']= hub8['Des'].str.replace('HUBB ','HUB')\n",
    "# hub8['Des']= hub8['Des'].str.replace('UB ','HUB')\n",
    "# hub8['Des']= hub8['Des'].str.replace('UB','HUB')\n",
    "# hub8['Des']= hub8['Des'].str.replace('_','')\n",
    "# hub8.info()\n",
    "hub8['id'] = hub8['Des'].apply(get_loc_id_kho_hub8)\n",
    "m4 = hub8['id'].isna()\n",
    "data_t3 = hub8[~m4]\n",
    "# data_t3.info()\n",
    "# hub8.to_excel('t.xlsx')"
   ]
  },
  {
   "cell_type": "code",
   "execution_count": null,
   "metadata": {},
   "outputs": [],
   "source": [
    "hub4 = hub8[m4]\n",
    "# hub4.info()\n",
    "# hub4['Des']= hub4['Des'].str.replace('HU ','HUB')\n",
    "# hub4['Des']= hub4['Des'].str.replace('UB ','HUB')\n",
    "# hub4['Des']= hub4['Des'].str.replace('UB','HUB')\n",
    "hub4['id'] = hub4['Des'].apply(get_loc_id_kho_hub4)\n",
    "m5 = hub4['id'].isna()\n",
    "data_t4 = hub4[~m5]\n",
    "# data_t4.info()"
   ]
  },
  {
   "cell_type": "code",
   "execution_count": null,
   "metadata": {},
   "outputs": [],
   "source": [
    "buu8 = hub4[m5]\n",
    "# buu8.info()\n",
    "buu8['id'] = buu8['Des'].apply(get_loc_id_kho_buucuc8)\n",
    "m6 = buu8['id'].isna()\n",
    "data_t5 = buu8[~m6]\n",
    "# data_t5.info()"
   ]
  },
  {
   "cell_type": "code",
   "execution_count": null,
   "metadata": {},
   "outputs": [],
   "source": [
    "buu4 = buu8[m6]\n",
    "# buu8['Des']= buu8['Des'].str.replace('HUB ','HUB')\n",
    "# buu4.info()\n",
    "buu4['id'] = buu4['Des'].apply(get_loc_id_kho_buucuc4)\n",
    "m7 = buu4['id'].isna()\n",
    "data_t6 = buu4[~m7]\n",
    "# data_t6.info()"
   ]
  },
  {
   "cell_type": "code",
   "execution_count": null,
   "metadata": {},
   "outputs": [],
   "source": [
    "remain1 = buu4[m7]\n",
    "remain1['Des']=remain1['Des'].str.replace('_','')\n",
    "remain1['id'] = remain1['Des'].apply(get_loc_id_kho_hub8)\n",
    "m8 = remain1['id'].isna()\n",
    "data_t7 = remain1[~m8]\n",
    "# data_t7.info()"
   ]
  },
  {
   "cell_type": "code",
   "execution_count": null,
   "metadata": {},
   "outputs": [],
   "source": [
    "remain2 = remain1[m8]\n",
    "# remain2.info()\n",
    "remain2['id'] = remain2['Des'].apply(get_loc_id_kho_8)\n",
    "m9 = remain2['id'].isna()\n",
    "data_t8 = remain2[~m9]\n",
    "# data_t8.info()"
   ]
  },
  {
   "cell_type": "code",
   "execution_count": null,
   "metadata": {},
   "outputs": [],
   "source": [
    "remain3 = remain2[m9]\n",
    "# remain3.info()\n",
    "remain3['Des'] = remain3['Des'].str.replace(' ','')\n",
    "remain3['id'] = remain3['Des'].apply(get_loc_id_kho_hub8)\n",
    "m10 = remain3['id'].isna()\n",
    "data_t9 = remain3[~m10]\n",
    "# data_t9.info()"
   ]
  },
  {
   "cell_type": "code",
   "execution_count": null,
   "metadata": {},
   "outputs": [],
   "source": [
    "remain4 = remain3[m10]\n",
    "# remain4.info()\n",
    "# remain3['Des'] = remain3['Des'].str.replace(' ','')\n",
    "remain4['id'] = remain4['Des'].apply(get_loc_id_kho_4)\n",
    "m11 = remain4['id'].isna()\n",
    "data_t10 = remain4[~m11]\n",
    "# data_t10.info()"
   ]
  },
  {
   "cell_type": "code",
   "execution_count": null,
   "metadata": {},
   "outputs": [],
   "source": [
    "remain5 = remain4[m11]\n",
    "datas = [data_t1,data_t2,data_t3,data_t4,data_t5,data_t6,data_t7,data_t8,data_t9,data_t10]\n",
    "data_concat = pd.concat( datas,axis=0,ignore_index=True)\n",
    "data_concat['id']=data_concat['id'].str.replace('V3GHN','')\n",
    "data_concat['id']=data_concat['id'].str.replace('HUB','')\n",
    "data_concat['id']=data_concat['id'].str.replace('_BUU','')"
   ]
  },
  {
   "cell_type": "code",
   "execution_count": null,
   "metadata": {},
   "outputs": [],
   "source": [
    "kho_id['Mã kho']= kho_id['Mã kho'].astype(str)\n",
    "df_merged = pd.merge(data_concat,kho_id,how = 'left', left_on=['id'], right_on=['Mã kho'])"
   ]
  },
  {
   "cell_type": "code",
   "execution_count": null,
   "metadata": {},
   "outputs": [],
   "source": [
    "df_merged.to_excel('df_merged.xlsx')"
   ]
  },
  {
   "cell_type": "code",
   "execution_count": null,
   "metadata": {},
   "outputs": [],
   "source": [
    "m12 = df_merged['STT'].isna()\n",
    "remain6 = df_merged[m12]"
   ]
  },
  {
   "cell_type": "code",
   "execution_count": null,
   "metadata": {},
   "outputs": [],
   "source": [
    "# remain6"
   ]
  },
  {
   "cell_type": "code",
   "execution_count": null,
   "metadata": {},
   "outputs": [],
   "source": [
    "df_remain=  pd.concat( [remain5,remain6],axis=0,ignore_index=True)"
   ]
  },
  {
   "cell_type": "code",
   "execution_count": null,
   "metadata": {},
   "outputs": [],
   "source": [
    "df_remain.to_excel('df_remain.xlsx')"
   ]
  },
  {
   "cell_type": "code",
   "execution_count": null,
   "metadata": {},
   "outputs": [],
   "source": [
    "# data_map_id_kho = data_map_id_kho.loc[data_map_id_kho['id_kho'] !='2023']\n",
    "# df_merged = pd.merge(data_map_id_kho,kho_id,how = 'left', left_on=['id_kho'], right_on=['Mã kho'])\n",
    "# result = df_merged.drop_duplicates(['Date','Datetime','Des','Amount','Bank','id_kho'],keep= 'last')"
   ]
  },
  {
   "cell_type": "code",
   "execution_count": null,
   "metadata": {},
   "outputs": [],
   "source": [
    "# # is the group containing more than one row?\n",
    "# m1 = result.duplicated(['Date','Datetime','Des','Amount','Bank','Dayname'], keep=False)\n",
    "# # is the row a NaN in \"Checked\"?\n",
    "# m2 = result['STT'].isna()\n",
    "# # both conditions True\n",
    "# m = m1&m2\n",
    "\n",
    "# # keep if either condition is False \n",
    "# b=result[~m]\n",
    "\n",
    "# # to get dropped duplicates\n",
    "# # keep if both are True\n",
    "# a= result[m]"
   ]
  }
 ],
 "metadata": {
  "kernelspec": {
   "display_name": "Python 3",
   "language": "python",
   "name": "python3"
  },
  "language_info": {
   "codemirror_mode": {
    "name": "ipython",
    "version": 3
   },
   "file_extension": ".py",
   "mimetype": "text/x-python",
   "name": "python",
   "nbconvert_exporter": "python",
   "pygments_lexer": "ipython3",
   "version": "3.8.10"
  },
  "orig_nbformat": 4,
  "vscode": {
   "interpreter": {
    "hash": "e3ada8b426290dd76767ba6368ea690ca67a7a436b12c3cf567e5cb72f89ca03"
   }
  }
 },
 "nbformat": 4,
 "nbformat_minor": 2
}
